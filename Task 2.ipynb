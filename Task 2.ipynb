{
 "cells": [
  {
   "cell_type": "markdown",
   "metadata": {},
   "source": [
    "# Question 1:\n",
    "Define a function which can print a dictionary where the keys are numbers between 1 and 3 (both included) and the values are square of keys.\n",
    "\n",
    "Hints:\n",
    "\n",
    "Use dict[key]=value pattern to put entry into a dictionary.\n",
    "Use ** operator to get power of a number."
   ]
  },
  {
   "cell_type": "code",
   "execution_count": 1,
   "metadata": {},
   "outputs": [
    {
     "name": "stdout",
     "output_type": "stream",
     "text": [
      "{1: 1, 2: 4}\n"
     ]
    }
   ],
   "source": [
    "def printDict():\n",
    "    dict={i:i**2 for i in range(1,3)}    \n",
    "    print(dict)\n",
    "\n",
    "printDict()"
   ]
  },
  {
   "cell_type": "markdown",
   "metadata": {},
   "source": [
    "# Question 2:\n",
    "Define a function which can generate a dictionary where the keys are numbers between 1 and 20 (both included) and the values are square of keys. The function should just print the values only.\n",
    "\n",
    "Hints:\n",
    "\n",
    "Use dict[key]=value pattern to put entry into a dictionary.\n",
    "Use ** operator to get power of a number.\n",
    "Use range() for loops.\n",
    "Use keys() to iterate keys in the dictionary. Also we can use item() to get key/value pairs.\n"
   ]
  },
  {
   "cell_type": "code",
   "execution_count": null,
   "metadata": {},
   "outputs": [],
   "source": []
  },
  {
   "cell_type": "markdown",
   "metadata": {},
   "source": [
    "# Question 3:\n",
    "Define a function which can generate a dictionary where the keys are numbers between 1 and 20 (both included) and the values are square of keys. The function should just print the keys only.\n",
    "\n",
    "Hints:\n",
    "\n",
    "Use dict[key]=value pattern to put entry into a dictionary.\n",
    "Use ** operator to get power of a number.\n",
    "Use range() for loops.\n",
    "Use keys() to iterate keys in the dictionary. Also we can use item() to get key/value pairs.\n"
   ]
  },
  {
   "cell_type": "code",
   "execution_count": null,
   "metadata": {},
   "outputs": [],
   "source": []
  },
  {
   "cell_type": "markdown",
   "metadata": {},
   "source": [
    "# Question 4 \n",
    "Write a Python program to check a dictionary is empty or not"
   ]
  },
  {
   "cell_type": "code",
   "execution_count": 2,
   "metadata": {},
   "outputs": [
    {
     "name": "stdout",
     "output_type": "stream",
     "text": [
      "Dictionary is empty\n"
     ]
    }
   ],
   "source": [
    "my_dict = {}\n",
    "\n",
    "if not bool(my_dict):\n",
    "    print(\"Dictionary is empty\")"
   ]
  },
  {
   "cell_type": "markdown",
   "metadata": {},
   "source": [
    "# Question 5\n",
    "\n",
    "Write a Python program to test whether every element in s is in t and every element in t is in s.\n",
    "\n"
   ]
  },
  {
   "cell_type": "code",
   "execution_count": null,
   "metadata": {},
   "outputs": [],
   "source": []
  },
  {
   "cell_type": "markdown",
   "metadata": {},
   "source": [
    "# Question 6\n",
    "Create set 1 and set 2 then \n",
    "Write a Python program to 1- create an intersection of sets.\n",
    "2-  a union of sets.\n",
    "3- create set difference.\n",
    "4- a symmetric difference."
   ]
  },
  {
   "cell_type": "code",
   "execution_count": null,
   "metadata": {},
   "outputs": [],
   "source": []
  },
  {
   "cell_type": "markdown",
   "metadata": {},
   "source": [
    "# Question  7\n",
    "Write a Python program to use of frozensets."
   ]
  },
  {
   "cell_type": "code",
   "execution_count": 3,
   "metadata": {},
   "outputs": [
    {
     "name": "stdout",
     "output_type": "stream",
     "text": [
      "frozenset Object is :  frozenset({1, 2, 3, 4, 5, 6, 7, 8, 9})\n"
     ]
    }
   ],
   "source": [
    "nu = (1, 2, 3, 4, 5, 6, 7, 8, 9)\n",
    " \n",
    "# converting tuple to frozenset\n",
    "fnum = frozenset(nu)\n",
    " \n",
    "# printing details\n",
    "print(\"frozenset Object is : \", fnum)\n"
   ]
  },
  {
   "cell_type": "markdown",
   "metadata": {},
   "source": [
    "# Question 8\n",
    "Write a Python program to find maximum and the minimum value in a set."
   ]
  },
  {
   "cell_type": "code",
   "execution_count": 4,
   "metadata": {},
   "outputs": [
    {
     "name": "stdout",
     "output_type": "stream",
     "text": [
      "Original set elements:\n",
      "{1, 2, 3, 20, 5}\n",
      "<class 'set'>\n",
      "\n",
      "Maximum value of the said set:\n",
      "20\n",
      "\n",
      "Minimum value of the said set:\n",
      "1\n"
     ]
    }
   ],
   "source": [
    "setn = {2, 5, 3, 1, 20}\n",
    "print(\"Original set elements:\")\n",
    "print(setn)\n",
    "print(type(setn))\n",
    "print(\"\\nMaximum value of the said set:\")\n",
    "print(max(setn))\n",
    "print(\"\\nMinimum value of the said set:\")\n",
    "print(min(setn))"
   ]
  },
  {
   "cell_type": "markdown",
   "metadata": {},
   "source": [
    "# Question9 :\n",
    "With a given tuple (1,2,3,4,5,6,7,8,9,10), write a program to print the first half values in one line and the last half values in one line. \n",
    "\n",
    "Hints:\n",
    "\n",
    "Use [n1:n2] notation to get a slice from a tuple."
   ]
  },
  {
   "cell_type": "code",
   "execution_count": 5,
   "metadata": {},
   "outputs": [
    {
     "name": "stdout",
     "output_type": "stream",
     "text": [
      "(1, 2, 3, 4, 5)\n",
      "(6, 7, 8, 9, 10)\n"
     ]
    }
   ],
   "source": [
    "tp=(1,2,3,4,5,6,7,8,9,10)\n",
    "\n",
    "tp1=tp[:5]\n",
    "\n",
    "tp2=tp[5:]\n",
    "\n",
    "print(tp1)\n",
    "\n",
    "print(tp2)\n"
   ]
  },
  {
   "cell_type": "markdown",
   "metadata": {},
   "source": [
    "# Question 10 :\n",
    "You are required to write a program to sort the (name, age, height) tuples by ascending order where name is string, age and height are numbers. The tuples are input by console. The sort criteria is:\n",
    "1: Sort based on name;\n",
    "2: Then sort based on age;\n",
    "3: Then sort by score.\n",
    "The priority is that name > age > score.\n",
    "If the following tuples are given as input to the program:\n",
    "Tom,19,80\n",
    "John,20,90\n",
    "Jony,17,91\n",
    "Jony,17,93\n",
    "Json,21,85\n",
    "Then, the output of the program should be:\n",
    "[('John', '20', '90'), ('Jony', '17', '91'), ('Jony', '17', '93'), ('Json', '21', '85'), ('Tom', '19', '80')]\n",
    "\n",
    "Hints:\n",
    "In case of input data being supplied to the question, it should be assumed to be a console input.\n",
    "We use itemgetter to enable multiple sort keys.\n",
    "\n",
    "Solutions:\n",
    "from operator import itemgetter, attrgetter\n"
   ]
  },
  {
   "cell_type": "code",
   "execution_count": null,
   "metadata": {},
   "outputs": [],
   "source": []
  },
  {
   "cell_type": "markdown",
   "metadata": {},
   "source": [
    "# Question 11:\n",
    "\n",
    "Please write a program to generate a list with 5 random numbers between 100 and 200 inclusive.\n",
    "\n",
    "\n",
    "\n",
    "Hints:\n",
    "Use random.sample() to generate a list of random values."
   ]
  },
  {
   "cell_type": "code",
   "execution_count": null,
   "metadata": {},
   "outputs": [],
   "source": []
  },
  {
   "cell_type": "markdown",
   "metadata": {},
   "source": [
    "# Question 12\n",
    "Please write a program to randomly generate a list with 5 even numbers between 100 and 200 inclusive.\n",
    "\n",
    "Hints:\n",
    "Use random.sample() to generate a list of random values."
   ]
  },
  {
   "cell_type": "code",
   "execution_count": 6,
   "metadata": {},
   "outputs": [
    {
     "name": "stdout",
     "output_type": "stream",
     "text": [
      "[128, 144, 172, 112, 170]\n"
     ]
    }
   ],
   "source": [
    "import random\n",
    "print(random.sample([i for i in range(100,200) if i%2==0], 5))"
   ]
  },
  {
   "cell_type": "markdown",
   "metadata": {},
   "source": [
    "# Question 13\n",
    "Please write a program to randomly print a integer number between 7 and 15 inclusive.\n",
    "\n",
    "Hints: Use random.randrange() to a random integer in a given range.\n",
    "\n"
   ]
  },
  {
   "cell_type": "code",
   "execution_count": 7,
   "metadata": {},
   "outputs": [
    {
     "name": "stdout",
     "output_type": "stream",
     "text": [
      "7\n"
     ]
    }
   ],
   "source": [
    "import random\n",
    "x = random.randint(7,15)\n",
    "print(x)\n"
   ]
  },
  {
   "cell_type": "markdown",
   "metadata": {},
   "source": [
    "# Question 14\n",
    "\n",
    "Please write a program to print the running time of execution of \"1+1\" for 100 times.\n",
    "Hints:\n",
    "Use timeit() function to measure the running time.\n"
   ]
  },
  {
   "cell_type": "code",
   "execution_count": null,
   "metadata": {},
   "outputs": [],
   "source": []
  },
  {
   "cell_type": "markdown",
   "metadata": {},
   "source": [
    "# Question 15 :\n",
    "\n",
    "Please write a program to shuffle and print the list [3,6,7,8].\n",
    "\n",
    "Hints:\n",
    "Use shuffle() function to shuffle a list.\n"
   ]
  },
  {
   "cell_type": "code",
   "execution_count": 8,
   "metadata": {},
   "outputs": [
    {
     "name": "stdout",
     "output_type": "stream",
     "text": [
      "[3, 7, 8, 6]\n"
     ]
    }
   ],
   "source": [
    "from random import shuffle\n",
    "number = [3,6,7,8]\n",
    "shuffle(number)\n",
    "print(number)\n"
   ]
  },
  {
   "cell_type": "code",
   "execution_count": null,
   "metadata": {},
   "outputs": [],
   "source": []
  }
 ],
 "metadata": {
  "kernelspec": {
   "display_name": "Python 3 (ipykernel)",
   "language": "python",
   "name": "python3"
  },
  "language_info": {
   "codemirror_mode": {
    "name": "ipython",
    "version": 3
   },
   "file_extension": ".py",
   "mimetype": "text/x-python",
   "name": "python",
   "nbconvert_exporter": "python",
   "pygments_lexer": "ipython3",
   "version": "3.9.7"
  }
 },
 "nbformat": 4,
 "nbformat_minor": 2
}
